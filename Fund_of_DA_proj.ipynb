{
 "cells": [
  {
   "cell_type": "markdown",
   "metadata": {},
   "source": [
    "#  Fundamentals of Data Analysis \n",
    "## Diarmuid Whelan Assignment 26-11-2018\n",
    "This Jupyter notebook will analyse the boxplot covering the following:\n",
    "    - Summarise the history of the box plot and situations in which it used.\n",
    "    - Demonstrate the use of the box plot using data of your choosing.\n",
    "    - Explain any relevant terminology such as the terms quartile and percentile.\n",
    "    - Compare the box plot to alternatives.\n",
    "    \n",
    "    \n",
    "## History of the Box plot\n",
    "The box plot is a method of visualising numerical datasets by graphically presenting a number of key attributes of the dataset. The boxplot is a very useful method of depicting a distributional summary of a dataset. Box plots use common summary statistics that are located at actual data points and are easily computed. They are particularly useful for comparing distributions across groups. An American mathematician, John W Tukey, was the first person to use a box plot to represent a dataset. Tukey first used a box plot in 1970 but the method became more widely known when published in his book \"Exploratory Data Analysis\" in 1977. Since then there have been numerous variations proposed to the original but the general principal remains with the box plot being constructed around the pillars of a datasets quartiles. The median, 25th and 75th percentiles comprise the upper middle and lower horizontal lines of the box. Whiskers are extended out to 3/2 times the interquartile range from the end of the box, with data lying beyond these whiskers called outliers represented by dots. Suggestions to improve Tukey's box plot included changing the range of the whiskers to the 98% and 2% percentiles and Edward Tufte's attempt to simplify the visual by removing the box and representing the median with a dot.\n",
    "\n",
    "\n",
    "## Box Plot to Represent Strokes Gained Data for Golf\n",
    "Strokes gained is a revolutionary concept developed by Mark Broadie of Columbia Business School. It is a method that measures a golfer’s performance on the course relative to other golfer's to identify where he/she is losing (or gaining) strokes. As an avid golfer I keep Strokes Gained statistics of my competitive rounds to identify strengths and weakness and hopefully help improve my performance. For 2018 I have recorded data on every shot hit in 20 rounds and measured these versus the average PGA tour player. Box plots are a potential tool that can be used to visualise my performance across a number of areas.\n",
    "\n",
    "\n",
    "\n",
    "\n",
    "\n",
    "Quartile is a type of quantile. The 1st quartile is defined as the middle number between the smallest number and the median of a data set. The 2nd quartile is the median of the data. The third quartile is the middle value between the median and the highest value of the data set. The lower bound of the box is the first quartile, the upper bound of the box is the 3rd quartile and the horizontal line in the box is the 2nd quantile(median).\n",
    "Percentile is a measure used in statistics indicating the value below which a given percentage of observations in a group of observations fall. For example, the 20th percentile is the value (or score) below which 20% of the observations may be found. In the above strokes gained data we can see what strokes gained value 20% percent of my shots fall below. "
   ]
  },
  {
   "cell_type": "markdown",
   "metadata": {},
   "source": [
    "## References\n",
    "https://en.wikipedia.org/wiki/Box_plot\n",
    "\n",
    "http://mathworld.wolfram.com/Box-and-WhiskerPlot.html\n",
    "\n",
    "http://vita.had.co.nz/papers/boxplots.pdf\n",
    "\n",
    "https://pdfs.semanticscholar.org/cde9/639824ed3d944581dd9d8ff1610e1a4ff03d.pdf\n",
    "\n",
    "https://en.wikipedia.org/wiki/Percentile\n",
    "\n",
    "https://en.wikipedia.org/wiki/Quartile"
   ]
  },
  {
   "cell_type": "code",
   "execution_count": null,
   "metadata": {},
   "outputs": [],
   "source": []
  }
 ],
 "metadata": {
  "kernelspec": {
   "display_name": "Python 3",
   "language": "python",
   "name": "python3"
  },
  "language_info": {
   "codemirror_mode": {
    "name": "ipython",
    "version": 3
   },
   "file_extension": ".py",
   "mimetype": "text/x-python",
   "name": "python",
   "nbconvert_exporter": "python",
   "pygments_lexer": "ipython3",
   "version": "3.6.5"
  }
 },
 "nbformat": 4,
 "nbformat_minor": 2
}
